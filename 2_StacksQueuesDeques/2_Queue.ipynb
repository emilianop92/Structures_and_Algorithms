{
 "cells": [
  {
   "cell_type": "code",
   "execution_count": 1,
   "metadata": {},
   "outputs": [],
   "source": [
    "class Queue():\n",
    "    def __init__(self):\n",
    "        self.queue = []\n",
    "        self.length = 0\n",
    "                \n",
    "    def enqueue(self, new_item):\n",
    "        self.queue.append(new_item)\n",
    "        self.length += 1\n",
    "        \n",
    "    def peek(self):\n",
    "        return self.queue[-1]\n",
    "        \n",
    "    def dequeue(self):\n",
    "        self.length -= 1\n",
    "        return self.queue.pop(0)\n",
    "        \n",
    "    def isEmpty(self):\n",
    "        return self.length == 0 \n",
    "    \n",
    "    def size(self):\n",
    "        return self.length"
   ]
  }
 ],
 "metadata": {
  "kernelspec": {
   "display_name": "Python 3",
   "language": "python",
   "name": "python3"
  },
  "language_info": {
   "codemirror_mode": {
    "name": "ipython",
    "version": 3
   },
   "file_extension": ".py",
   "mimetype": "text/x-python",
   "name": "python",
   "nbconvert_exporter": "python",
   "pygments_lexer": "ipython3",
   "version": "3.7.6"
  }
 },
 "nbformat": 4,
 "nbformat_minor": 4
}
