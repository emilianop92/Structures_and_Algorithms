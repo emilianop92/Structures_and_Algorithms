{
 "cells": [
  {
   "cell_type": "code",
   "execution_count": 1,
   "metadata": {},
   "outputs": [],
   "source": [
    "class Stack():\n",
    "    def __init__(self):\n",
    "        self.stack = []\n",
    "        self.length = 0\n",
    "                \n",
    "    def add(self, new_item):\n",
    "        self.stack.append(new_item)\n",
    "        self.length += 1\n",
    "        \n",
    "    def peek(self):\n",
    "        return self.stack[-1]\n",
    "        \n",
    "    def pop(self):\n",
    "        self.length -= 1\n",
    "        return self.stack.pop()\n",
    "        \n",
    "    def isEmpty(self):\n",
    "        return self.length == 0 \n",
    "    \n",
    "    def size(self):\n",
    "        return self.length"
   ]
  }
 ],
 "metadata": {
  "kernelspec": {
   "display_name": "Python 3",
   "language": "python",
   "name": "python3"
  },
  "language_info": {
   "codemirror_mode": {
    "name": "ipython",
    "version": 3
   },
   "file_extension": ".py",
   "mimetype": "text/x-python",
   "name": "python",
   "nbconvert_exporter": "python",
   "pygments_lexer": "ipython3",
   "version": "3.7.6"
  }
 },
 "nbformat": 4,
 "nbformat_minor": 4
}
