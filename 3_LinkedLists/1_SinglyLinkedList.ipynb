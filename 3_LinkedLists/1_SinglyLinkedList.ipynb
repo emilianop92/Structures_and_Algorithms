{
 "cells": [
  {
   "cell_type": "code",
   "execution_count": 1,
   "metadata": {},
   "outputs": [],
   "source": [
    "class Node():\n",
    "    \n",
    "    def __init__(self, value):\n",
    "        self.value = value\n",
    "        self.nextnode = None"
   ]
  },
  {
   "cell_type": "code",
   "execution_count": 2,
   "metadata": {},
   "outputs": [],
   "source": [
    "class SinglyLinkedList():\n",
    "    \n",
    "    def __init__(self, headnode = None):\n",
    "        self.headnode = headnode\n",
    "        \n",
    "    def printlist(self):\n",
    "        current_node = self.headnode\n",
    "        if self.headnode == None:\n",
    "            print(\"Set a head value first!\")\n",
    "        else:\n",
    "            while current_node != None:\n",
    "                print(current_node.value)\n",
    "                current_node = current_node.nextnode\n",
    "    \n",
    "    def insertFirst(self, new_node, second_node = None):\n",
    "        if (second_node == None) & (self.headnode == None):\n",
    "            print(\"A current head value does not exist!\")\n",
    "        else:\n",
    "            second_node = self.headnode\n",
    "            new_node.nextnode = second_node\n",
    "            self.headnode = new_node\n",
    "        \n",
    "    def insertLast(self, new_node):\n",
    "        if self.headnode == None:\n",
    "            print(\"Set a head value first!\")\n",
    "        else:\n",
    "            current_node = self.headnode\n",
    "            while current_node.nextnode != None:\n",
    "                current_node = current_node.nextnode\n",
    "        current_node.nextnode = new_node\n",
    "        new_node.nextnode = None\n",
    "        \n",
    "    def insertAfter(self, new_node, prev_node):\n",
    "        next_node = prev_node.nextnode\n",
    "        prev_node.nextnode = new_node\n",
    "        new_node.nextnode = next_node\n",
    "        \n",
    "    def removeNode(self, remove_node):\n",
    "        if remove_node == self.headnode:\n",
    "            self.headnode = remove_node.nextnode\n",
    "        else:\n",
    "            current_node = self.headnode\n",
    "            while current_node.nextnode != remove_node:\n",
    "                current_node = current_node.nextnode\n",
    "            current_node.nextnode = remove_node.nextnode\n",
    "            "
   ]
  },
  {
   "cell_type": "code",
   "execution_count": 3,
   "metadata": {},
   "outputs": [],
   "source": [
    "a = Node(1)\n",
    "b = Node(2)\n",
    "c = Node(3)\n",
    "d = Node(4)\n",
    "e = Node(5)\n",
    "f = Node(3.5)"
   ]
  },
  {
   "cell_type": "code",
   "execution_count": 4,
   "metadata": {},
   "outputs": [],
   "source": [
    "b.nextnode = c\n",
    "c.nextnode = d\n",
    "d.nextnode = e"
   ]
  },
  {
   "cell_type": "code",
   "execution_count": 5,
   "metadata": {},
   "outputs": [],
   "source": [
    "sll = SinglyLinkedList()"
   ]
  },
  {
   "cell_type": "code",
   "execution_count": 6,
   "metadata": {},
   "outputs": [],
   "source": [
    "sll.headnode = b"
   ]
  },
  {
   "cell_type": "code",
   "execution_count": 7,
   "metadata": {},
   "outputs": [
    {
     "name": "stdout",
     "output_type": "stream",
     "text": [
      "2\n",
      "3\n",
      "4\n",
      "5\n"
     ]
    }
   ],
   "source": [
    "sll.printlist()"
   ]
  },
  {
   "cell_type": "code",
   "execution_count": 8,
   "metadata": {},
   "outputs": [],
   "source": [
    "sll.insertFirst(a)"
   ]
  },
  {
   "cell_type": "code",
   "execution_count": 9,
   "metadata": {},
   "outputs": [
    {
     "name": "stdout",
     "output_type": "stream",
     "text": [
      "1\n",
      "2\n",
      "3\n",
      "4\n",
      "5\n"
     ]
    }
   ],
   "source": [
    "sll.printlist()"
   ]
  },
  {
   "cell_type": "code",
   "execution_count": 10,
   "metadata": {},
   "outputs": [],
   "source": [
    "sll.insertAfter(f, c)"
   ]
  },
  {
   "cell_type": "code",
   "execution_count": 11,
   "metadata": {},
   "outputs": [
    {
     "name": "stdout",
     "output_type": "stream",
     "text": [
      "1\n",
      "2\n",
      "3\n",
      "3.5\n",
      "4\n",
      "5\n"
     ]
    }
   ],
   "source": [
    "sll.printlist()"
   ]
  },
  {
   "cell_type": "code",
   "execution_count": 12,
   "metadata": {},
   "outputs": [],
   "source": [
    "sll.removeNode(f)"
   ]
  },
  {
   "cell_type": "code",
   "execution_count": 13,
   "metadata": {},
   "outputs": [
    {
     "name": "stdout",
     "output_type": "stream",
     "text": [
      "1\n",
      "2\n",
      "3\n",
      "4\n",
      "5\n"
     ]
    }
   ],
   "source": [
    "sll.printlist()"
   ]
  },
  {
   "cell_type": "code",
   "execution_count": 14,
   "metadata": {},
   "outputs": [],
   "source": [
    "sll.insertLast(f)"
   ]
  },
  {
   "cell_type": "code",
   "execution_count": 15,
   "metadata": {},
   "outputs": [
    {
     "name": "stdout",
     "output_type": "stream",
     "text": [
      "1\n",
      "2\n",
      "3\n",
      "4\n",
      "5\n",
      "3.5\n"
     ]
    }
   ],
   "source": [
    "sll.printlist()"
   ]
  }
 ],
 "metadata": {
  "kernelspec": {
   "display_name": "Python 3",
   "language": "python",
   "name": "python3"
  },
  "language_info": {
   "codemirror_mode": {
    "name": "ipython",
    "version": 3
   },
   "file_extension": ".py",
   "mimetype": "text/x-python",
   "name": "python",
   "nbconvert_exporter": "python",
   "pygments_lexer": "ipython3",
   "version": "3.7.6"
  }
 },
 "nbformat": 4,
 "nbformat_minor": 4
}
