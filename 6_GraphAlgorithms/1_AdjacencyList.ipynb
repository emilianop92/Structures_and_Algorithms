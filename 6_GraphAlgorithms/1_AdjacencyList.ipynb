{
 "cells": [
  {
   "cell_type": "code",
   "execution_count": 1,
   "metadata": {},
   "outputs": [],
   "source": [
    "class Vertex():\n",
    "    \n",
    "    def __init__(self, vert_id):           \n",
    "        self.vert_id = vert_id\n",
    "        self.connections = {}\n",
    "    \n",
    "    def addNeighbor(self, neighbor_id, cost=0):\n",
    "        self.connections[neighbor_id] = cost\n",
    "        \n",
    "    def getConnections(self, vert_id):\n",
    "        return self.connections.keys()\n",
    "    \n",
    "    def getvert_id(self):\n",
    "        return self.vert_id\n",
    "    \n",
    "    def getCost(self, neighbor_id):\n",
    "        return self.connections[neighbor_id]\n",
    "    \n",
    "    def __str__(self):\n",
    "        # print(vertex) or str(vertex) will display the following:\n",
    "        return f\"Vertex {self.vert_id} is connected to:\" + str([x.vert_id for x in self.connections])\n",
    "    "
   ]
  },
  {
   "cell_type": "code",
   "execution_count": 2,
   "metadata": {},
   "outputs": [],
   "source": [
    "class Graph():\n",
    "    \"\"\"\n",
    "    This class will add vertices to a graph. When inputing vertices, simply use the vertex ID. \n",
    "    Do not first create a vertex object.\n",
    "    \"\"\"\n",
    "    def __init__(self):\n",
    "        self.vertList = {}\n",
    "        self.num_vertices = 0       \n",
    "    \n",
    "    # This will automatically create a vertex object for the passed in ID. Optionally pass in a dictionary for edges.\n",
    "    def addVertex(self, vert_id, conn_dict={}):\n",
    "        newVertex = Vertex(vert_id)\n",
    "        self.vertList[vert_id] = newVertex\n",
    "        self.num_vertices +=1\n",
    "        \n",
    "        for x in conn_dict:\n",
    "            self.addEdge(vert_id, x, conn_dict[x])\n",
    "            \n",
    "        return newVertex\n",
    "    \n",
    "    def getVertex(self, n):\n",
    "        if n in self.vertList:\n",
    "            return self.vertList[n]\n",
    "        else:\n",
    "            return None\n",
    "    \n",
    "    def addEdge(self, start, to, cost = 0):\n",
    "        if start not in self.vertList:\n",
    "            nv = self.addVertex(start)\n",
    "        if to not in self.vertList:\n",
    "            nv = self.addVertex(to)\n",
    "            \n",
    "        self.vertList[start].addNeighbor(self.vertList[to], cost)\n",
    "        \n",
    "    def __iter__(self):\n",
    "        # Used in iterable commands such as for loops. Each loop will return a vertex by order in vertList.\n",
    "        return iter(self.vertList.values())\n",
    "        \n",
    "    def __contains__(self, vert):\n",
    "        return n in self.vertList\n",
    "        \n",
    "    def __str__(self):\n",
    "        result = []\n",
    "        for vertex  in self.vertList.values():\n",
    "            result.append(str(vertex))\n",
    "        return '\\n'.join(result)\n",
    "    "
   ]
  },
  {
   "cell_type": "code",
   "execution_count": 3,
   "metadata": {},
   "outputs": [],
   "source": [
    "g = Graph()"
   ]
  },
  {
   "cell_type": "code",
   "execution_count": 4,
   "metadata": {},
   "outputs": [],
   "source": [
    "for i in range(4):\n",
    "    g.addVertex(i)"
   ]
  },
  {
   "cell_type": "code",
   "execution_count": 5,
   "metadata": {},
   "outputs": [
    {
     "data": {
      "text/plain": [
       "{0: <__main__.Vertex at 0x501f430>,\n",
       " 1: <__main__.Vertex at 0x501f1f0>,\n",
       " 2: <__main__.Vertex at 0x501f3d0>,\n",
       " 3: <__main__.Vertex at 0x501f330>}"
      ]
     },
     "execution_count": 5,
     "metadata": {},
     "output_type": "execute_result"
    }
   ],
   "source": [
    "g.vertList"
   ]
  },
  {
   "cell_type": "code",
   "execution_count": 6,
   "metadata": {},
   "outputs": [],
   "source": [
    "g.addEdge(0, 1, 2)"
   ]
  },
  {
   "cell_type": "code",
   "execution_count": 7,
   "metadata": {},
   "outputs": [
    {
     "data": {
      "text/plain": [
       "<__main__.Vertex at 0x627f190>"
      ]
     },
     "execution_count": 7,
     "metadata": {},
     "output_type": "execute_result"
    }
   ],
   "source": [
    "x = 4\n",
    "x_connections = {0: 20, 1: 40, 2:20, 3:10}\n",
    "g.addVertex(x, x_connections)"
   ]
  },
  {
   "cell_type": "code",
   "execution_count": 8,
   "metadata": {},
   "outputs": [
    {
     "name": "stdout",
     "output_type": "stream",
     "text": [
      "Vertex 0 is connected to:[1]\n",
      "Vertex 1 is connected to:[]\n",
      "Vertex 2 is connected to:[]\n",
      "Vertex 3 is connected to:[]\n",
      "Vertex 4 is connected to:[0, 1, 2, 3]\n"
     ]
    }
   ],
   "source": [
    "print(g)"
   ]
  }
 ],
 "metadata": {
  "kernelspec": {
   "display_name": "Python 3",
   "language": "python",
   "name": "python3"
  },
  "language_info": {
   "codemirror_mode": {
    "name": "ipython",
    "version": 3
   },
   "file_extension": ".py",
   "mimetype": "text/x-python",
   "name": "python",
   "nbconvert_exporter": "python",
   "pygments_lexer": "ipython3",
   "version": "3.7.6"
  }
 },
 "nbformat": 4,
 "nbformat_minor": 4
}
