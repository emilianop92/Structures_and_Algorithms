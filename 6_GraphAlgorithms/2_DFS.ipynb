{
 "cells": [
  {
   "cell_type": "code",
   "execution_count": 1,
   "metadata": {},
   "outputs": [],
   "source": [
    "graph = {'A': set(['B', 'C']),\n",
    "         'B': set(['A', 'D', 'E']),\n",
    "         'C': set(['A', 'F']),\n",
    "         'D': set(['B']),\n",
    "         'E': set(['B', 'F']),\n",
    "         'F': set(['C', 'E'])}    "
   ]
  },
  {
   "cell_type": "code",
   "execution_count": 2,
   "metadata": {},
   "outputs": [],
   "source": [
    "def DFS_connectedNodes(graph, start):\n",
    "    \"\"\"\n",
    "    This function only shows all nodes in reach of the starting node. It does not show the paths.\n",
    "    \"\"\"\n",
    "    visited = set()\n",
    "    stack = [start]\n",
    "    \n",
    "    while stack != []:\n",
    "        # Take the top of the stack as current:\n",
    "        current = stack.pop()\n",
    "        \n",
    "        # Add adjacent nodes of the current node to the top of the stack:\n",
    "        if current not in visited:\n",
    "            visited.add(current)\n",
    "            stack.extend(graph[current] - visited)\n",
    "            \n",
    "    return visited\n",
    "            "
   ]
  },
  {
   "cell_type": "code",
   "execution_count": 3,
   "metadata": {},
   "outputs": [
    {
     "data": {
      "text/plain": [
       "{'A', 'B', 'C', 'D', 'E', 'F'}"
      ]
     },
     "execution_count": 3,
     "metadata": {},
     "output_type": "execute_result"
    }
   ],
   "source": [
    "DFS_connectedNodes(graph, 'A')"
   ]
  },
  {
   "cell_type": "code",
   "execution_count": 4,
   "metadata": {},
   "outputs": [],
   "source": [
    "def DFS_paths(graph, start, goal):\n",
    "    \"\"\"\n",
    "    This function shows the multiple paths to get from the starting node to the end node.\n",
    "    \"\"\"\n",
    "    path = [start]                           # Path is reinstantianted to itself later. This was added for clarity\n",
    "    node_stack = [(start, path)]\n",
    "    counter = 0\n",
    "    \n",
    "    while node_stack != []:\n",
    "        \n",
    "        print()\n",
    "        print(node_stack)\n",
    "        \n",
    "        (current, path) = node_stack.pop()\n",
    "        not_visited = graph[current] - set(path)\n",
    "        \n",
    "        print('Choose end-of-stack path: ', path)\n",
    "        print(f'New nodes connected to {current}: ', not_visited)\n",
    "        # Appends all not visited nodes to the stack.\n",
    "        for nxt in not_visited:\n",
    "            if nxt == goal:\n",
    "                print('Found a path: ', path + [nxt])\n",
    "                yield path + [nxt]\n",
    "            else:\n",
    "                node_stack.append((nxt, path+[nxt]))\n",
    "         "
   ]
  },
  {
   "cell_type": "code",
   "execution_count": 5,
   "metadata": {},
   "outputs": [
    {
     "name": "stdout",
     "output_type": "stream",
     "text": [
      "\n",
      "[('A', ['A'])]\n",
      "Choose end-of-stack path:  ['A']\n",
      "New nodes connected to A:  {'B', 'C'}\n",
      "\n",
      "[('B', ['A', 'B']), ('C', ['A', 'C'])]\n",
      "Choose end-of-stack path:  ['A', 'C']\n",
      "New nodes connected to C:  {'F'}\n",
      "Found a path:  ['A', 'C', 'F']\n",
      "\n",
      "[('B', ['A', 'B'])]\n",
      "Choose end-of-stack path:  ['A', 'B']\n",
      "New nodes connected to B:  {'E', 'D'}\n",
      "\n",
      "[('E', ['A', 'B', 'E']), ('D', ['A', 'B', 'D'])]\n",
      "Choose end-of-stack path:  ['A', 'B', 'D']\n",
      "New nodes connected to D:  set()\n",
      "\n",
      "[('E', ['A', 'B', 'E'])]\n",
      "Choose end-of-stack path:  ['A', 'B', 'E']\n",
      "New nodes connected to E:  {'F'}\n",
      "Found a path:  ['A', 'B', 'E', 'F']\n"
     ]
    },
    {
     "data": {
      "text/plain": [
       "[['A', 'C', 'F'], ['A', 'B', 'E', 'F']]"
      ]
     },
     "execution_count": 5,
     "metadata": {},
     "output_type": "execute_result"
    }
   ],
   "source": [
    "list(DFS_paths(graph, 'A', 'F'))"
   ]
  }
 ],
 "metadata": {
  "kernelspec": {
   "display_name": "Python 3",
   "language": "python",
   "name": "python3"
  },
  "language_info": {
   "codemirror_mode": {
    "name": "ipython",
    "version": 3
   },
   "file_extension": ".py",
   "mimetype": "text/x-python",
   "name": "python",
   "nbconvert_exporter": "python",
   "pygments_lexer": "ipython3",
   "version": "3.7.6"
  }
 },
 "nbformat": 4,
 "nbformat_minor": 4
}
