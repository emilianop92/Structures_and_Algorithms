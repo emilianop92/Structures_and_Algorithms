{
 "cells": [
  {
   "cell_type": "code",
   "execution_count": 1,
   "metadata": {},
   "outputs": [],
   "source": [
    "def binarySearch(arr, element):\n",
    "    \"\"\"\n",
    "    Binary search for a sorted array.\n",
    "    \"\"\"\n",
    "    marker1 = 0\n",
    "    marker2 = len(arr)-1\n",
    "    found = False\n",
    "    \n",
    "    while marker1 < marker2 and not found:\n",
    "        \n",
    "        mid = (marker1+marker2)/2\n",
    "        \n",
    "        if element == arr[mid]:\n",
    "            found = True\n",
    "        elif element < arr[mid]:\n",
    "            marker2 = mid-1\n",
    "        else:\n",
    "            marker1 = mid+1\n",
    "    \n",
    "    return found"
   ]
  }
 ],
 "metadata": {
  "kernelspec": {
   "display_name": "Python 3",
   "language": "python",
   "name": "python3"
  },
  "language_info": {
   "codemirror_mode": {
    "name": "ipython",
    "version": 3
   },
   "file_extension": ".py",
   "mimetype": "text/x-python",
   "name": "python",
   "nbconvert_exporter": "python",
   "pygments_lexer": "ipython3",
   "version": "3.7.6"
  }
 },
 "nbformat": 4,
 "nbformat_minor": 4
}
