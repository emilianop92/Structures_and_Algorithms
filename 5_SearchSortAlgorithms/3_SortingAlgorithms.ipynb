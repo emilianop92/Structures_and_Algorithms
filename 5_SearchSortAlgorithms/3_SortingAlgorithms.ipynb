{
 "cells": [
  {
   "cell_type": "markdown",
   "metadata": {},
   "source": [
    "### Bubble Sort"
   ]
  },
  {
   "cell_type": "code",
   "execution_count": 1,
   "metadata": {},
   "outputs": [],
   "source": [
    "def bubbleSort(arr):\n",
    "    \n",
    "    # Number of values to check each round:\n",
    "    for j in range(len(arr)-1, 0, -1):\n",
    "        \n",
    "        # Range of values to check:\n",
    "        for i in range(j):\n",
    "            if arr[i] > arr[i+1]:\n",
    "                temp = arr[i]\n",
    "                arr[i] = arr[i+1]\n",
    "                arr[i+1] = temp\n"
   ]
  },
  {
   "cell_type": "code",
   "execution_count": 2,
   "metadata": {},
   "outputs": [
    {
     "data": {
      "text/plain": [
       "[1, 4, 6, 10, 12, 54, 65, 75, 77, 87]"
      ]
     },
     "execution_count": 2,
     "metadata": {},
     "output_type": "execute_result"
    }
   ],
   "source": [
    "arr = [4,10,6,77,75,87,54,65,12,1]\n",
    "bubbleSort(arr)\n",
    "arr"
   ]
  },
  {
   "cell_type": "markdown",
   "metadata": {},
   "source": [
    "### Selection Sort"
   ]
  },
  {
   "cell_type": "code",
   "execution_count": 3,
   "metadata": {},
   "outputs": [],
   "source": [
    "def selectionSort(arr):\n",
    "    \n",
    "    # Number of maximum sort swaps, and index for the replaced value:\n",
    "    for i in range(len(arr)-1, 0, -1):\n",
    "        \n",
    "        # Searching for the largest value at each iteration:\n",
    "        largest = arr[0]\n",
    "        largest_ind = 0\n",
    "        for j in range(i+1):\n",
    "            if arr[j] > largest:\n",
    "                largest = arr[j]\n",
    "                largest_ind = j\n",
    "        temp = arr[i]\n",
    "        arr[i] = largest\n",
    "        arr[largest_ind] = temp\n",
    "        "
   ]
  },
  {
   "cell_type": "code",
   "execution_count": 4,
   "metadata": {},
   "outputs": [
    {
     "data": {
      "text/plain": [
       "[1, 4, 6, 10, 12, 54, 65, 75, 77, 87]"
      ]
     },
     "execution_count": 4,
     "metadata": {},
     "output_type": "execute_result"
    }
   ],
   "source": [
    "arr = [4,10,6,77,75,87,54,65,12,1]\n",
    "selectionSort(arr)\n",
    "arr"
   ]
  },
  {
   "cell_type": "markdown",
   "metadata": {},
   "source": [
    "### Insert Sort"
   ]
  },
  {
   "cell_type": "code",
   "execution_count": 5,
   "metadata": {},
   "outputs": [],
   "source": [
    "def insertSort(arr):\n",
    "    \n",
    "    # The index of all values that need to be checked.\n",
    "    for i in range(1, len(arr)):\n",
    "        temp = arr[i]\n",
    "        \n",
    "        # While loop compares left positions until it finds the correct location to insert the new value.\n",
    "        while i>=1 and temp < arr[i-1]:\n",
    "            arr[i] = arr[i-1]\n",
    "            arr[i-1] = temp\n",
    "            i-=1\n"
   ]
  },
  {
   "cell_type": "code",
   "execution_count": 6,
   "metadata": {},
   "outputs": [
    {
     "data": {
      "text/plain": [
       "[1, 4, 6, 10, 12, 54, 65, 75, 77, 87]"
      ]
     },
     "execution_count": 6,
     "metadata": {},
     "output_type": "execute_result"
    }
   ],
   "source": [
    "arr = [4,10,6,77,75,87,54,65,12,1]\n",
    "insertSort(arr)\n",
    "arr"
   ]
  },
  {
   "cell_type": "markdown",
   "metadata": {},
   "source": [
    "### Shell Sort"
   ]
  },
  {
   "cell_type": "code",
   "execution_count": 7,
   "metadata": {},
   "outputs": [],
   "source": [
    "def shellSort(arr):\n",
    "    \n",
    "    # Divide the original array into sublists. Size of each sublist is the dividing value.\n",
    "    index_gap = len(arr)//2  # In this case, the sublist lengths will be 2 or 3 values.\n",
    "    \n",
    "    while index_gap > 0: \n",
    "        \n",
    "        for starting_index in range(index_gap):\n",
    "            \n",
    "            gap_insertSort(arr, starting_index, index_gap)\n",
    "    \n",
    "        index_gap = index_gap//2\n",
    "    "
   ]
  },
  {
   "cell_type": "code",
   "execution_count": 8,
   "metadata": {},
   "outputs": [],
   "source": [
    "def gap_insertSort(arr, start, gap):\n",
    "    \n",
    "    # Function called by shellSort() to perform an insert sort for the sublists.\n",
    "    for i in range(start+gap, len(arr), gap):\n",
    "        \n",
    "        current_val = arr[i]\n",
    "        position = i\n",
    "        \n",
    "        while position >= gap and arr[position-gap] > current_val:\n",
    "            \n",
    "            arr[position] = arr[position-gap]\n",
    "            position = position-gap\n",
    "            \n",
    "        arr[position] = current_val"
   ]
  },
  {
   "cell_type": "code",
   "execution_count": 9,
   "metadata": {},
   "outputs": [
    {
     "data": {
      "text/plain": [
       "[1, 4, 6, 10, 12, 54, 65, 75, 77, 87]"
      ]
     },
     "execution_count": 9,
     "metadata": {},
     "output_type": "execute_result"
    }
   ],
   "source": [
    "arr = [4,10,6,77,75,87,54,65,12,1]\n",
    "shellSort(arr)\n",
    "arr"
   ]
  },
  {
   "cell_type": "markdown",
   "metadata": {},
   "source": [
    "### Merge Sort"
   ]
  },
  {
   "cell_type": "code",
   "execution_count": 10,
   "metadata": {},
   "outputs": [],
   "source": [
    "def mergeSort(arr):\n",
    "    \n",
    "    if len(arr) > 1:\n",
    "        mid = len(arr)//2\n",
    "        \n",
    "        lefthalf = arr[:mid]\n",
    "        righthalf = arr[mid:]\n",
    "        \n",
    "        mergeSort(lefthalf)\n",
    "        mergeSort(righthalf)\n",
    "        \n",
    "        i = 0\n",
    "        j = 0\n",
    "        k = 0\n",
    "        \n",
    "        # This while loop checks compares values of the two sublists until the end of one of the two sublists is reached.\n",
    "        while i < len(lefthalf) and j < len(righthalf):\n",
    "            \n",
    "            if lefthalf[i] < righthalf[j]:\n",
    "                arr[k] = lefthalf[i]\n",
    "                i +=1\n",
    "            else:\n",
    "                arr[k] = righthalf[j]\n",
    "                j +=1\n",
    "            \n",
    "            k +=1\n",
    "        \n",
    "        # The following two while loops cycle through the remaind of whichever sublist still has values in it.\n",
    "        while i < len(lefthalf):\n",
    "            arr[k] = lefthalf[i]\n",
    "            i +=1\n",
    "            k +=1\n",
    "\n",
    "        while j < len(righthalf):\n",
    "            arr[k] = righthalf[j]\n",
    "            j +=1\n",
    "            k +=1\n",
    "            \n",
    "# Also check out https://www.youtube.com/watch?v=iR1CXiC7OQc"
   ]
  },
  {
   "cell_type": "code",
   "execution_count": 11,
   "metadata": {},
   "outputs": [
    {
     "data": {
      "text/plain": [
       "[1, 4, 6, 10, 12, 54, 65, 75, 77, 87]"
      ]
     },
     "execution_count": 11,
     "metadata": {},
     "output_type": "execute_result"
    }
   ],
   "source": [
    "arr = [4,10,6,77,75,87,54,65,12,1]\n",
    "mergeSort(arr)\n",
    "arr"
   ]
  },
  {
   "cell_type": "markdown",
   "metadata": {},
   "source": [
    "### Quick Sort"
   ]
  },
  {
   "cell_type": "code",
   "execution_count": 12,
   "metadata": {},
   "outputs": [],
   "source": [
    "def quickSort(arr):\n",
    "    \n",
    "    quickSort_recursive(arr, 0, len(arr)-1)\n",
    "    \n",
    "\n",
    "def quickSort_recursive(arr, first, last):\n",
    "    # Recurrsively shortens the window of items that still need to be sorted.\n",
    "    if first < last:\n",
    "        \n",
    "        splitpoint = partition(arr, first, last)\n",
    "        \n",
    "        quickSort_recursive(arr, first, splitpoint-1)\n",
    "        quickSort_recursive(arr, splitpoint+1, last)\n",
    "\n",
    "\n",
    "def partition(arr, first, last):\n",
    "    \"\"\"\n",
    "    This performs the quicksort with pointers approaching from the outsides inward.\n",
    "    \"\"\"\n",
    "    pivot_val = arr[first]\n",
    "    leftmarker = first+1\n",
    "    rightmarker = last\n",
    "    \n",
    "    done = False\n",
    "    \n",
    "    while not done:\n",
    "        \n",
    "        # Markers move toward the center until a swap is required.\n",
    "        while leftmarker <= rightmarker and arr[leftmarker] <= pivot_val:\n",
    "            leftmarker +=1\n",
    "        \n",
    "        while leftmarker <= rightmarker and pivot_val <= arr[rightmarker]:\n",
    "            rightmarker -=1\n",
    "            \n",
    "        # Condition for the swap of values at markers:\n",
    "        if leftmarker > rightmarker:\n",
    "            done = True\n",
    "        else:\n",
    "            temp = arr[leftmarker]\n",
    "            arr[leftmarker] = arr[rightmarker]\n",
    "            arr[rightmarker] = temp\n",
    "            \n",
    "            \n",
    "    # Swap of pivot point with the left marker (because the left marker is less than the pivot point, it must move left).\n",
    "    temp = arr[first]\n",
    "    arr[first] = arr[rightmarker]\n",
    "    arr[rightmarker] = temp\n",
    "    \n",
    "    return rightmarker"
   ]
  },
  {
   "cell_type": "code",
   "execution_count": 13,
   "metadata": {},
   "outputs": [
    {
     "data": {
      "text/plain": [
       "[1, 4, 6, 10, 12, 54, 65, 75, 77, 87]"
      ]
     },
     "execution_count": 13,
     "metadata": {},
     "output_type": "execute_result"
    }
   ],
   "source": [
    "arr = [4,10,6,77,75,87,54,65,12,1]\n",
    "quickSort(arr)\n",
    "arr"
   ]
  },
  {
   "cell_type": "markdown",
   "metadata": {},
   "source": [
    "To visualize these algorithms, check out:\n",
    "https://visualgo.net/en\n",
    "\n",
    "For information on time and space complexity of these algorithms, review this:\n",
    "https://www.bigocheatsheet.com/\n",
    "\n",
    "If space is an issue, recommended to use Heapsort.\n",
    "If not, recommended to use Timsort."
   ]
  }
 ],
 "metadata": {
  "kernelspec": {
   "display_name": "Python 3",
   "language": "python",
   "name": "python3"
  },
  "language_info": {
   "codemirror_mode": {
    "name": "ipython",
    "version": 3
   },
   "file_extension": ".py",
   "mimetype": "text/x-python",
   "name": "python",
   "nbconvert_exporter": "python",
   "pygments_lexer": "ipython3",
   "version": "3.7.6"
  }
 },
 "nbformat": 4,
 "nbformat_minor": 4
}
