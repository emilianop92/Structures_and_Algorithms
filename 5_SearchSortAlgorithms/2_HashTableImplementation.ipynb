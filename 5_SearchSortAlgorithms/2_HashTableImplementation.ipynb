{
 "cells": [
  {
   "cell_type": "code",
   "execution_count": 1,
   "metadata": {},
   "outputs": [],
   "source": [
    "class HashTable():\n",
    "    '''\n",
    "    Hash tables are not necessary in Python as they are replaced by dictionaries. \n",
    "    However, here is the implementation of one to demonstrate how it would be done.\n",
    "    '''\n",
    "    \n",
    "    def __init__(self, size):\n",
    "        self.keys = [None]*size\n",
    "        self.values = [None]*size\n",
    "        self.size = size\n",
    "        \n",
    "    def hashFunction(self, key):\n",
    "        # Edit hash function here for more complicated hashes. The hash() function exists to do this too.\n",
    "        return int(key)%self.size\n",
    "    \n",
    "    def rehash(self, key):\n",
    "        # If a hash value is taken, this edits the value to the next available key.\n",
    "        return (key+1)%self.size\n",
    "    \n",
    "    def setitem(self, key, value):\n",
    "        hash_val = self.hashFunction(key)\n",
    "                        \n",
    "        # This allocates a new hash value to a key if the previous hash value was already taken.\n",
    "        while self.keys[hash_val] != None and self.keys[hash_val] != key:\n",
    "            hash_val = self.rehash(hash_val)\n",
    "\n",
    "        # Allocates a new key and value to the hash table\n",
    "        if self.keys[hash_val] == None:\n",
    "            self.keys[hash_val] = hash_val\n",
    "            self.values[hash_val] = value\n",
    "\n",
    "        # This overwrites and old value already in the hash table.\n",
    "        else:\n",
    "            self.values[hash_val] = value\n",
    "            \n",
    "    def get(self, key):\n",
    "        search_start = self.hashFunction(key)\n",
    "        \n",
    "        for i in range(self.size):\n",
    "            search_index = (search_start+i)%self.size\n",
    "            \n",
    "            if self.keys[search_index] == key:\n",
    "                return self.values[search_index]\n",
    "            \n",
    "        print('There is no value associated with that key in the hash table.')\n",
    "        \n",
    "    def __getitem__(self, key):\n",
    "        return self.get(key)\n",
    "    \n",
    "    def __setitem__(self, key, value):\n",
    "        self.setitem(key, value)\n",
    "        "
   ]
  },
  {
   "cell_type": "code",
   "execution_count": 2,
   "metadata": {},
   "outputs": [],
   "source": [
    "h = HashTable(5)\n",
    "h[1] = 'one'\n",
    "h[2] = 'two'"
   ]
  },
  {
   "cell_type": "code",
   "execution_count": 3,
   "metadata": {},
   "outputs": [
    {
     "data": {
      "text/plain": [
       "'one'"
      ]
     },
     "execution_count": 3,
     "metadata": {},
     "output_type": "execute_result"
    }
   ],
   "source": [
    "h[1]"
   ]
  }
 ],
 "metadata": {
  "kernelspec": {
   "display_name": "Python 3",
   "language": "python",
   "name": "python3"
  },
  "language_info": {
   "codemirror_mode": {
    "name": "ipython",
    "version": 3
   },
   "file_extension": ".py",
   "mimetype": "text/x-python",
   "name": "python",
   "nbconvert_exporter": "python",
   "pygments_lexer": "ipython3",
   "version": "3.7.6"
  }
 },
 "nbformat": 4,
 "nbformat_minor": 4
}
